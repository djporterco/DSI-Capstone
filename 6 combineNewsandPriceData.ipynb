{
 "cells": [
  {
   "cell_type": "markdown",
   "metadata": {},
   "source": [
    "# Combine news and price data"
   ]
  },
  {
   "cell_type": "code",
   "execution_count": 1,
   "metadata": {},
   "outputs": [],
   "source": [
    "import pandas as pd\n",
    "import numpy as np\n",
    "from datetime import datetime\n",
    "import matplotlib.pyplot as plt\n",
    "\n",
    "pd.set_option('display.max_columns', None)\n",
    "\n",
    "#message notifier\n",
    "from sendMessage import sendmessage as sm\n",
    "\n",
    "#import coin list\n",
    "from getCoinList import getCoinList as coin_list\n",
    "\n",
    "#set coin list\n",
    "coin_list = coin_list()"
   ]
  },
  {
   "cell_type": "code",
   "execution_count": 2,
   "metadata": {},
   "outputs": [
    {
     "data": {
      "text/plain": [
       "['BTC',\n",
       " 'ETH',\n",
       " 'BCH',\n",
       " 'XRP',\n",
       " 'EOS',\n",
       " 'LTC',\n",
       " 'XLM',\n",
       " 'ADA',\n",
       " 'XMR',\n",
       " 'TRX',\n",
       " 'ZEC',\n",
       " 'NEO',\n",
       " 'DASH',\n",
       " 'MCO',\n",
       " 'USDT',\n",
       " 'SYS']"
      ]
     },
     "execution_count": 2,
     "metadata": {},
     "output_type": "execute_result"
    }
   ],
   "source": [
    "coin_list"
   ]
  },
  {
   "cell_type": "code",
   "execution_count": 3,
   "metadata": {},
   "outputs": [
    {
     "name": "stdout",
     "output_type": "stream",
     "text": [
      "reading news for:  BTC\n",
      "reading prices for:  BTC\n",
      "merging dataset:  BTC\n",
      "finished with  BTC\n",
      "reading news for:  ETH\n",
      "reading prices for:  ETH\n",
      "merging dataset:  ETH\n",
      "finished with  ETH\n",
      "reading news for:  BCH\n",
      "reading prices for:  BCH\n",
      "merging dataset:  BCH\n",
      "finished with  BCH\n",
      "reading news for:  XRP\n",
      "reading prices for:  XRP\n",
      "merging dataset:  XRP\n",
      "finished with  XRP\n",
      "reading news for:  EOS\n",
      "reading prices for:  EOS\n",
      "merging dataset:  EOS\n",
      "finished with  EOS\n",
      "reading news for:  LTC\n",
      "reading prices for:  LTC\n",
      "merging dataset:  LTC\n",
      "finished with  LTC\n",
      "reading news for:  XLM\n",
      "reading prices for:  XLM\n",
      "merging dataset:  XLM\n",
      "finished with  XLM\n",
      "reading news for:  ADA\n",
      "reading prices for:  ADA\n",
      "merging dataset:  ADA\n",
      "finished with  ADA\n",
      "reading news for:  XMR\n",
      "reading prices for:  XMR\n",
      "merging dataset:  XMR\n",
      "finished with  XMR\n",
      "reading news for:  TRX\n",
      "reading prices for:  TRX\n",
      "merging dataset:  TRX\n",
      "finished with  TRX\n",
      "reading news for:  ZEC\n",
      "reading prices for:  ZEC\n",
      "merging dataset:  ZEC\n",
      "finished with  ZEC\n",
      "reading news for:  NEO\n",
      "reading prices for:  NEO\n",
      "merging dataset:  NEO\n",
      "finished with  NEO\n",
      "reading news for:  DASH\n",
      "reading prices for:  DASH\n",
      "merging dataset:  DASH\n",
      "finished with  DASH\n",
      "reading news for:  MCO\n",
      "reading prices for:  MCO\n",
      "merging dataset:  MCO\n",
      "finished with  MCO\n",
      "reading news for:  USDT\n",
      "reading prices for:  USDT\n",
      "merging dataset:  USDT\n",
      "finished with  USDT\n",
      "reading news for:  SYS\n",
      "reading prices for:  SYS\n",
      "merging dataset:  SYS\n",
      "finished with  SYS\n"
     ]
    }
   ],
   "source": [
    "for coin in coin_list:\n",
    "    # get file name\n",
    "\n",
    "    #Read in news\n",
    "    news = pd.read_csv('./processedNews/processed_news_' + coin + '.csv')\n",
    "    \n",
    "    print(\"reading news for: \", coin)\n",
    "\n",
    "    #fill na\n",
    "    news.fillna(0, inplace=True)\n",
    "\n",
    "    news['created_at'] = news['date_time']\n",
    "\n",
    "    #set date_time\n",
    "    news['date_time'] = pd.to_datetime(news['date_time'])\n",
    "\n",
    "    # set index\n",
    "    news.set_index('date_time', inplace=True)\n",
    "\n",
    "    # resample on the hour\n",
    "    hourly_news = news.resample('H').mean()\n",
    "\n",
    "    hourly_news = hourly_news.fillna(0)\n",
    "\n",
    "    # read in prices \n",
    "    prices = pd.read_csv('./OHLCV_TA/OHLCV_TA_' + coin + '.csv')\n",
    "    \n",
    "    print(\"reading prices for: \", coin)\n",
    "\n",
    "\n",
    "    #set date_time\n",
    "    prices['date_time'] = pd.to_datetime(prices['date_time'])\n",
    "\n",
    "    # set index\n",
    "    prices.set_index('date_time', inplace=True)\n",
    "\n",
    "    # fill na\n",
    "    prices = prices.fillna(0)\n",
    "\n",
    "    # merge\n",
    "    df  = pd.merge(hourly_news, prices, left_index=True, right_index=True, how='outer')\n",
    "    \n",
    "    print(\"merging dataset: \", coin)\n",
    "\n",
    "\n",
    "    # fill na again\n",
    "    df = df.replace(np.nan, 0)\n",
    "    df = df.fillna(0)\n",
    "\n",
    "    # save a new file.\n",
    "    newfile = 'clean_data_' + coin + '.csv'\n",
    "\n",
    "    df.to_csv('./cleaned/' + newfile)\n",
    "    print(\"finished with \", coin)\n",
    "                       \n",
    "sm('files are cleaned.')"
   ]
  },
  {
   "cell_type": "code",
   "execution_count": null,
   "metadata": {},
   "outputs": [],
   "source": []
  }
 ],
 "metadata": {
  "kernelspec": {
   "display_name": "Python [conda env:anaconda3]",
   "language": "python",
   "name": "conda-env-anaconda3-py"
  },
  "language_info": {
   "codemirror_mode": {
    "name": "ipython",
    "version": 3
   },
   "file_extension": ".py",
   "mimetype": "text/x-python",
   "name": "python",
   "nbconvert_exporter": "python",
   "pygments_lexer": "ipython3",
   "version": "3.6.5"
  },
  "varInspector": {
   "cols": {
    "lenName": 16,
    "lenType": 16,
    "lenVar": 40
   },
   "kernels_config": {
    "python": {
     "delete_cmd_postfix": "",
     "delete_cmd_prefix": "del ",
     "library": "var_list.py",
     "varRefreshCmd": "print(var_dic_list())"
    },
    "r": {
     "delete_cmd_postfix": ") ",
     "delete_cmd_prefix": "rm(",
     "library": "var_list.r",
     "varRefreshCmd": "cat(var_dic_list()) "
    }
   },
   "types_to_exclude": [
    "module",
    "function",
    "builtin_function_or_method",
    "instance",
    "_Feature"
   ],
   "window_display": false
  }
 },
 "nbformat": 4,
 "nbformat_minor": 2
}
