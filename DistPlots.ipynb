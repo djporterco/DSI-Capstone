{
 "cells": [
  {
   "cell_type": "code",
   "execution_count": 1,
   "metadata": {},
   "outputs": [],
   "source": [
    "import pandas as pd\n",
    "from matplotlib import pyplot\n",
    "import numpy as np\n",
    "%matplotlib inline"
   ]
  },
  {
   "cell_type": "code",
   "execution_count": 11,
   "metadata": {},
   "outputs": [],
   "source": [
    "df = pd.read_csv('./analysis/BTC.csv')\n",
    "df.drop(columns='Unnamed: 0', inplace=True)"
   ]
  },
  {
   "cell_type": "code",
   "execution_count": 16,
   "metadata": {},
   "outputs": [],
   "source": [
    "df = df.rename(index=str, columns={\"votes_disliked\": \"dislike\",\n",
    "                              \"votes_important\": \"important\",\n",
    "                              \"votes_liked\": \"liked\",\n",
    "                              \"votes_lol\": \"lol\",\n",
    "                              \"votes_negative\": \"bearish\",\n",
    "                              \"votes_positive\": \"bullish\",\n",
    "                              \"votes_saved\": \"saved\",\n",
    "                              \"votes_toxic\": \"toxic\"})"
   ]
  },
  {
   "cell_type": "code",
   "execution_count": 32,
   "metadata": {},
   "outputs": [],
   "source": [
    "df['user_sent_opinions'] = df['bearish'] + df['bullish']\n",
    "\n",
    "df['bullishness'] = ((df['bullish'] / df['user_sent_opinions']) * 100)\n",
    "\n",
    "df['bearishness'] = -((df['bearish'] / df['user_sent_opinions']) * 100)"
   ]
  },
  {
   "cell_type": "code",
   "execution_count": 33,
   "metadata": {},
   "outputs": [
    {
     "data": {
      "text/html": [
       "<div>\n",
       "<style scoped>\n",
       "    .dataframe tbody tr th:only-of-type {\n",
       "        vertical-align: middle;\n",
       "    }\n",
       "\n",
       "    .dataframe tbody tr th {\n",
       "        vertical-align: top;\n",
       "    }\n",
       "\n",
       "    .dataframe thead th {\n",
       "        text-align: right;\n",
       "    }\n",
       "</style>\n",
       "<table border=\"1\" class=\"dataframe\">\n",
       "  <thead>\n",
       "    <tr style=\"text-align: right;\">\n",
       "      <th></th>\n",
       "      <th>date_time</th>\n",
       "      <th>dislike</th>\n",
       "      <th>important</th>\n",
       "      <th>liked</th>\n",
       "      <th>lol</th>\n",
       "      <th>bearish</th>\n",
       "      <th>bullish</th>\n",
       "      <th>saved</th>\n",
       "      <th>toxic</th>\n",
       "      <th>title_smog_score</th>\n",
       "      <th>...</th>\n",
       "      <th>is_Monday</th>\n",
       "      <th>is_Saturday</th>\n",
       "      <th>is_Sunday</th>\n",
       "      <th>is_Thursday</th>\n",
       "      <th>is_Tuesday</th>\n",
       "      <th>is_Wednesday</th>\n",
       "      <th>is_nan</th>\n",
       "      <th>user_sent_opinions</th>\n",
       "      <th>bullishness</th>\n",
       "      <th>bearishness</th>\n",
       "    </tr>\n",
       "  </thead>\n",
       "  <tbody>\n",
       "    <tr>\n",
       "      <th>0</th>\n",
       "      <td>2018-04-08 14:00:00</td>\n",
       "      <td>2.0</td>\n",
       "      <td>19.0</td>\n",
       "      <td>18.0</td>\n",
       "      <td>1.0</td>\n",
       "      <td>4.0</td>\n",
       "      <td>22.0</td>\n",
       "      <td>3.0</td>\n",
       "      <td>0.0</td>\n",
       "      <td>11.208143</td>\n",
       "      <td>...</td>\n",
       "      <td>0</td>\n",
       "      <td>0</td>\n",
       "      <td>1</td>\n",
       "      <td>0</td>\n",
       "      <td>0</td>\n",
       "      <td>0</td>\n",
       "      <td>0</td>\n",
       "      <td>26.0</td>\n",
       "      <td>84.615385</td>\n",
       "      <td>-15.384615</td>\n",
       "    </tr>\n",
       "    <tr>\n",
       "      <th>1</th>\n",
       "      <td>2018-04-09 08:00:00</td>\n",
       "      <td>0.0</td>\n",
       "      <td>15.5</td>\n",
       "      <td>14.5</td>\n",
       "      <td>1.0</td>\n",
       "      <td>2.0</td>\n",
       "      <td>24.0</td>\n",
       "      <td>3.0</td>\n",
       "      <td>0.0</td>\n",
       "      <td>8.841846</td>\n",
       "      <td>...</td>\n",
       "      <td>1</td>\n",
       "      <td>0</td>\n",
       "      <td>0</td>\n",
       "      <td>0</td>\n",
       "      <td>0</td>\n",
       "      <td>0</td>\n",
       "      <td>0</td>\n",
       "      <td>26.0</td>\n",
       "      <td>92.307692</td>\n",
       "      <td>-7.692308</td>\n",
       "    </tr>\n",
       "    <tr>\n",
       "      <th>2</th>\n",
       "      <td>2018-04-10 10:00:00</td>\n",
       "      <td>2.0</td>\n",
       "      <td>12.0</td>\n",
       "      <td>16.0</td>\n",
       "      <td>4.0</td>\n",
       "      <td>2.0</td>\n",
       "      <td>19.0</td>\n",
       "      <td>4.0</td>\n",
       "      <td>0.0</td>\n",
       "      <td>3.129100</td>\n",
       "      <td>...</td>\n",
       "      <td>0</td>\n",
       "      <td>0</td>\n",
       "      <td>0</td>\n",
       "      <td>0</td>\n",
       "      <td>1</td>\n",
       "      <td>0</td>\n",
       "      <td>0</td>\n",
       "      <td>21.0</td>\n",
       "      <td>90.476190</td>\n",
       "      <td>-9.523810</td>\n",
       "    </tr>\n",
       "    <tr>\n",
       "      <th>3</th>\n",
       "      <td>2018-04-10 11:00:00</td>\n",
       "      <td>0.0</td>\n",
       "      <td>5.0</td>\n",
       "      <td>6.0</td>\n",
       "      <td>0.0</td>\n",
       "      <td>0.0</td>\n",
       "      <td>7.0</td>\n",
       "      <td>3.0</td>\n",
       "      <td>0.0</td>\n",
       "      <td>11.208143</td>\n",
       "      <td>...</td>\n",
       "      <td>0</td>\n",
       "      <td>0</td>\n",
       "      <td>0</td>\n",
       "      <td>0</td>\n",
       "      <td>1</td>\n",
       "      <td>0</td>\n",
       "      <td>0</td>\n",
       "      <td>7.0</td>\n",
       "      <td>100.000000</td>\n",
       "      <td>-0.000000</td>\n",
       "    </tr>\n",
       "    <tr>\n",
       "      <th>4</th>\n",
       "      <td>2018-04-10 12:00:00</td>\n",
       "      <td>0.0</td>\n",
       "      <td>3.0</td>\n",
       "      <td>3.0</td>\n",
       "      <td>0.0</td>\n",
       "      <td>0.0</td>\n",
       "      <td>3.0</td>\n",
       "      <td>3.0</td>\n",
       "      <td>0.0</td>\n",
       "      <td>3.129100</td>\n",
       "      <td>...</td>\n",
       "      <td>0</td>\n",
       "      <td>0</td>\n",
       "      <td>0</td>\n",
       "      <td>0</td>\n",
       "      <td>1</td>\n",
       "      <td>0</td>\n",
       "      <td>0</td>\n",
       "      <td>3.0</td>\n",
       "      <td>100.000000</td>\n",
       "      <td>-0.000000</td>\n",
       "    </tr>\n",
       "  </tbody>\n",
       "</table>\n",
       "<p>5 rows × 4130 columns</p>\n",
       "</div>"
      ],
      "text/plain": [
       "             date_time  dislike  important  liked  lol  bearish  bullish  \\\n",
       "0  2018-04-08 14:00:00      2.0       19.0   18.0  1.0      4.0     22.0   \n",
       "1  2018-04-09 08:00:00      0.0       15.5   14.5  1.0      2.0     24.0   \n",
       "2  2018-04-10 10:00:00      2.0       12.0   16.0  4.0      2.0     19.0   \n",
       "3  2018-04-10 11:00:00      0.0        5.0    6.0  0.0      0.0      7.0   \n",
       "4  2018-04-10 12:00:00      0.0        3.0    3.0  0.0      0.0      3.0   \n",
       "\n",
       "   saved  toxic  title_smog_score     ...       is_Monday  is_Saturday  \\\n",
       "0    3.0    0.0         11.208143     ...               0            0   \n",
       "1    3.0    0.0          8.841846     ...               1            0   \n",
       "2    4.0    0.0          3.129100     ...               0            0   \n",
       "3    3.0    0.0         11.208143     ...               0            0   \n",
       "4    3.0    0.0          3.129100     ...               0            0   \n",
       "\n",
       "   is_Sunday  is_Thursday  is_Tuesday  is_Wednesday  is_nan  \\\n",
       "0          1            0           0             0       0   \n",
       "1          0            0           0             0       0   \n",
       "2          0            0           1             0       0   \n",
       "3          0            0           1             0       0   \n",
       "4          0            0           1             0       0   \n",
       "\n",
       "   user_sent_opinions  bullishness  bearishness  \n",
       "0                26.0    84.615385   -15.384615  \n",
       "1                26.0    92.307692    -7.692308  \n",
       "2                21.0    90.476190    -9.523810  \n",
       "3                 7.0   100.000000    -0.000000  \n",
       "4                 3.0   100.000000    -0.000000  \n",
       "\n",
       "[5 rows x 4130 columns]"
      ]
     },
     "execution_count": 33,
     "metadata": {},
     "output_type": "execute_result"
    }
   ],
   "source": [
    "df.head()"
   ]
  },
  {
   "cell_type": "markdown",
   "metadata": {},
   "source": [
    "# Distribution of Bullish Vs Bearish Votes"
   ]
  },
  {
   "cell_type": "code",
   "execution_count": 64,
   "metadata": {
    "scrolled": true
   },
   "outputs": [
    {
     "data": {
      "image/png": "[encoded data removed]",
      "text/plain": [
       "<Figure size 432x288 with 1 Axes>"
      ]
     },
     "metadata": {},
     "output_type": "display_data"
    }
   ],
   "source": [
    "pyplot.hist(df[df['bullishness'] > 0] ['bullish'], bins=20, alpha=0.5, density=True, label='Bullish')\n",
    "pyplot.hist(-df[df['bearishness'] < 0] ['bearish'], bins=20, alpha=0.5, density=True, label='Bearish')\n",
    "#pyplot.hist(df['important'], bins=20, alpha=0.5, density=True, label='Important')\n",
    "pyplot.legend()\n",
    "pyplot.show()"
   ]
  },
  {
   "cell_type": "markdown",
   "metadata": {},
   "source": [
    "# Distribution of Title Polarity and Subjectivity"
   ]
  },
  {
   "cell_type": "code",
   "execution_count": 67,
   "metadata": {
    "scrolled": true
   },
   "outputs": [
    {
     "data": {
      "image/png": "[encoded data removed]",
      "text/plain": [
       "<Figure size 432x288 with 1 Axes>"
      ]
     },
     "metadata": {},
     "output_type": "display_data"
    }
   ],
   "source": [
    "pyplot.hist(df['title_polarity'], bins=20, alpha=0.5, density=True, label='Title Polarity')\n",
    "pyplot.hist(df['title_subjectivity'], bins=20, alpha=0.5, density=True, label='Title Subjectivity')\n",
    "\n",
    "pyplot.legend()\n",
    "pyplot.show()"
   ]
  },
  {
   "cell_type": "markdown",
   "metadata": {},
   "source": [
    "# Distribution of Description Polarity and Subjectivity"
   ]
  },
  {
   "cell_type": "code",
   "execution_count": 68,
   "metadata": {
    "scrolled": false
   },
   "outputs": [
    {
     "data": {
      "image/png": "[encoded data removed]",
      "text/plain": [
       "<Figure size 432x288 with 1 Axes>"
      ]
     },
     "metadata": {},
     "output_type": "display_data"
    }
   ],
   "source": [
    "pyplot.hist(df['description_polarity'], bins=20, alpha=0.5, density=True, label='Description Polarity')\n",
    "pyplot.hist(df['description_subjectivity'], bins=20, alpha=0.5, density=True, label='Description Subjectivity')\n",
    "\n",
    "pyplot.legend()\n",
    "pyplot.show()"
   ]
  },
  {
   "cell_type": "markdown",
   "metadata": {},
   "source": [
    "# Title Subjectivity Vs Description Subjectivity"
   ]
  },
  {
   "cell_type": "code",
   "execution_count": 69,
   "metadata": {
    "scrolled": false
   },
   "outputs": [
    {
     "data": {
      "image/png": "[encoded data removed]",
      "text/plain": [
       "<Figure size 432x288 with 1 Axes>"
      ]
     },
     "metadata": {},
     "output_type": "display_data"
    }
   ],
   "source": [
    "pyplot.hist(df['title_subjectivity'], bins=20, alpha=0.5, density=True, label='Title Subjectivity')\n",
    "pyplot.hist(df['description_subjectivity'], bins=20, alpha=0.5, density=True, label='Description Subjectivity')\n",
    "\n",
    "pyplot.legend()\n",
    "pyplot.show()"
   ]
  },
  {
   "cell_type": "markdown",
   "metadata": {},
   "source": [
    "# Title Polarity Vs Description Polarity"
   ]
  },
  {
   "cell_type": "code",
   "execution_count": 70,
   "metadata": {},
   "outputs": [
    {
     "data": {
      "image/png": "[encoded data removed]",
      "text/plain": [
       "<Figure size 432x288 with 1 Axes>"
      ]
     },
     "metadata": {},
     "output_type": "display_data"
    }
   ],
   "source": [
    "pyplot.hist(df['title_polarity'], bins=20, alpha=0.5, density=True, label='Title Polarity')\n",
    "pyplot.hist(df['description_polarity'], bins=20, alpha=0.5, density=True, label='Description Polarity')\n",
    "\n",
    "pyplot.legend()\n",
    "pyplot.show()"
   ]
  },
  {
   "cell_type": "markdown",
   "metadata": {},
   "source": [
    "## Title Subjectivity on Bullish and Bearish Votes "
   ]
  },
  {
   "cell_type": "code",
   "execution_count": 50,
   "metadata": {},
   "outputs": [
    {
     "data": {
      "image/png": "[encoded data removed]",
      "text/plain": [
       "<Figure size 432x288 with 1 Axes>"
      ]
     },
     "metadata": {},
     "output_type": "display_data"
    }
   ],
   "source": [
    "pyplot.hist(df[df['bullishness'] > 0] ['title_subjectivity'], bins=20, alpha=0.5, density=True, label='Title Subjectivity on Bullish Votes')\n",
    "pyplot.hist(df[df['bearishness'] < 0] ['title_subjectivity'], bins=20, alpha=0.5, density=True, label='Title Subjectivity on Bearish Votes')\n",
    "pyplot.legend()\n",
    "pyplot.show()"
   ]
  },
  {
   "cell_type": "markdown",
   "metadata": {},
   "source": [
    "## Title Polarity on Bullish and Bearish Votes "
   ]
  },
  {
   "cell_type": "code",
   "execution_count": 72,
   "metadata": {
    "scrolled": true
   },
   "outputs": [
    {
     "data": {
      "image/png": "[encoded data removed]",
      "text/plain": [
       "<Figure size 432x288 with 1 Axes>"
      ]
     },
     "metadata": {},
     "output_type": "display_data"
    }
   ],
   "source": [
    "pyplot.hist(df[df['bullishness'] > 0] ['title_polarity'], bins=20, alpha=0.5, density=True, label='Title Polarity on Bullish Votes')\n",
    "pyplot.hist(-df[df['bearishness'] < 0] ['title_polarity'], bins=20, alpha=0.5, density=True, label='Title Polarity on Bearish Votes')\n",
    "pyplot.legend()\n",
    "pyplot.show()"
   ]
  },
  {
   "cell_type": "markdown",
   "metadata": {},
   "source": [
    "## Description Polarity on Bullish and Bearish Votes"
   ]
  },
  {
   "cell_type": "code",
   "execution_count": 73,
   "metadata": {
    "scrolled": true
   },
   "outputs": [
    {
     "data": {
      "image/png": "[encoded data removed]",
      "text/plain": [
       "<Figure size 432x288 with 1 Axes>"
      ]
     },
     "metadata": {},
     "output_type": "display_data"
    }
   ],
   "source": [
    "pyplot.hist(df[df['bullishness'] > 0] ['description_polarity'], bins=20, alpha=0.5, density=True, label='Description Polarity on Bullish Votes')\n",
    "pyplot.hist(-df[df['bearishness'] < 0] ['description_polarity'], bins=20, alpha=0.5, density=True, label='Description Polarity on Bearish Votes')\n",
    "pyplot.legend()\n",
    "pyplot.show()"
   ]
  },
  {
   "cell_type": "markdown",
   "metadata": {},
   "source": [
    "## Description Subjectivity on Bullish and Bearish Votes"
   ]
  },
  {
   "cell_type": "code",
   "execution_count": 74,
   "metadata": {
    "scrolled": true
   },
   "outputs": [
    {
     "data": {
      "image/png": "[encoded data removed]",
      "text/plain": [
       "<Figure size 432x288 with 1 Axes>"
      ]
     },
     "metadata": {},
     "output_type": "display_data"
    }
   ],
   "source": [
    "pyplot.hist(df[df['bullishness'] > 0] ['description_subjectivity'], bins=20, alpha=0.5, density=True, label='Description Subjectivity on Bullish Votes')\n",
    "pyplot.hist(-df[df['bearishness'] < 0] ['description_subjectivity'], bins=20, alpha=0.5, density=True, label='Description Subjectivity on Bearish Votes')\n",
    "pyplot.legend()\n",
    "pyplot.show()"
   ]
  },
  {
   "cell_type": "markdown",
   "metadata": {},
   "source": [
    "## User Generated Bullish Vs Bearish Votes"
   ]
  },
  {
   "cell_type": "code",
   "execution_count": 75,
   "metadata": {},
   "outputs": [
    {
     "data": {
      "image/png": "[encoded data removed]",
      "text/plain": [
       "<Figure size 432x288 with 1 Axes>"
      ]
     },
     "metadata": {},
     "output_type": "display_data"
    }
   ],
   "source": [
    "pyplot.hist(df[df['bullishness'] > 0] ['user_sent_opinions'], bins=20, alpha=0.5, density=True, label='Bullish Votes')\n",
    "pyplot.hist(-df[df['bearishness'] < 0] ['user_sent_opinions'], bins=20, alpha=0.5, density=True, label='Bearish Votes')\n",
    "pyplot.show()"
   ]
  },
  {
   "cell_type": "code",
   "execution_count": null,
   "metadata": {},
   "outputs": [],
   "source": []
  }
 ],
 "metadata": {
  "kernelspec": {
   "display_name": "Python [conda env:anaconda3]",
   "language": "python",
   "name": "conda-env-anaconda3-py"
  },
  "language_info": {
   "codemirror_mode": {
    "name": "ipython",
    "version": 3
   },
   "file_extension": ".py",
   "mimetype": "text/x-python",
   "name": "python",
   "nbconvert_exporter": "python",
   "pygments_lexer": "ipython3",
   "version": "3.6.5"
  },
  "varInspector": {
   "cols": {
    "lenName": 16,
    "lenType": 16,
    "lenVar": 40
   },
   "kernels_config": {
    "python": {
     "delete_cmd_postfix": "",
     "delete_cmd_prefix": "del ",
     "library": "var_list.py",
     "varRefreshCmd": "print(var_dic_list())"
    },
    "r": {
     "delete_cmd_postfix": ") ",
     "delete_cmd_prefix": "rm(",
     "library": "var_list.r",
     "varRefreshCmd": "cat(var_dic_list()) "
    }
   },
   "types_to_exclude": [
    "module",
    "function",
    "builtin_function_or_method",
    "instance",
    "_Feature"
   ],
   "window_display": false
  }
 },
 "nbformat": 4,
 "nbformat_minor": 2
}
