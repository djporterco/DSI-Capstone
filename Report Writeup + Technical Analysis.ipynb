{
 "cells": [
  {
   "cell_type": "markdown",
   "metadata": {},
   "source": [
    "# Report Writeup + Technical Analysis\n",
    "\n",
    "#### DJ Porter     | DSI-4-SEA | July 15, 2018\n"
   ]
  },
  {
   "cell_type": "markdown",
   "metadata": {},
   "source": [
    "## How will the users 'view' an article based on just title and description?"
   ]
  },
  {
   "cell_type": "markdown",
   "metadata": {},
   "source": [
    "###  Can I predict how an audience will perceive an article?"
   ]
  },
  {
   "cell_type": "markdown",
   "metadata": {},
   "source": [
    "Cryptocurrency is still in its infancy. Deemed by many as a 'wild west'. I believe that the majority of news that is published is hype and therefore many trading decisions are made due to hype and emotional reasons. I plan to demonstrate that some articles have more \"weight\" to the community as a whole."
   ]
  },
  {
   "cell_type": "markdown",
   "metadata": {},
   "source": [
    "### General Overview\n",
    "\n",
    "#### Articles\n",
    "\n",
    "I chose to build a list of articles from the site [Cryptopanic.com](cryptopanic.com). This site aggregates news, opinions and posts from around the web that pertain to cryptocurrencies and blockchain technologies. The site sorts them by the coin or coins that the article is related to and allows the users to vote on how they perceive the article.\n",
    "\n",
    "CryptoPanic aggregates posts and article from various sources like, Reddit, Twitter, bitcoin.com, ccn.com, coindesk.com, ethereumworldnews.com, dailyhodl.com, wsj.com and many others.\n",
    "\n",
    "CryptoPanic also supports languages in these regions: en (English), de (Deutsch), es (Español), it (Italiano), pt (Português), ru (Русский):\n",
    "\n",
    "CryptoPanic also allows users to track their crytpo related portfolios on the site.\n",
    "\n",
    "CryptoPanic has 8 options for voting that demonstrate a sentiment for the article. The voting options are:\n",
    "`like` | `dislike` | `bullish` | `bearish` | `important` | `lol` | `toxic` | `saved`. \n",
    "\n",
    "Limitations.\n",
    "- Cryptopanic does not offer the full text of the article in the API. Therefore all analyis will be completed using the title, description and voting information.\n",
    "- I was able to collect 563 individual articles for Bitcoin (BTC) within the date ranges of `2018-04-08` through `2018-07-09`.\n",
    "\n",
    "\n",
    "### Assumptions associated with the voting options\n",
    "\n",
    "I am making the assumption that article will reach a level of 'maturity' after about a week of being on the site. New articles would have made it to the site and the older ones will likely be ignored and assumed to not be relevant by users. The votes that the article has accumulated will likely not change. \n",
    "\n",
    "`like` = The user liked that the article (this assumes that the article is written well and may or may not effect any other features)\n",
    "\n",
    "`dislike` = The user did not like the article (this assumes that the article is written well and may or may not effect any other features)\n",
    "\n",
    "`bullish` = The user deems that the article to have a bullish impact on the price of the associated currency.\n",
    "\n",
    "`bearish` = The user deems that the article to have a bearish impact on the price of the associated currency.\n",
    "\n",
    "`important` = The user deems that the article is important in some way.\n",
    "\n",
    "`lol` = The user found this article amusing in some way.\n",
    "\n",
    "`toxic` = The user found this article to be misleading or contain bad information; `SPAM ` filter. It should be noted that only paying pro members can vote for an article to be toxic.\n",
    "\n",
    "`saved` = The user saved the article to view later; A bookmark."
   ]
  },
  {
   "cell_type": "markdown",
   "metadata": {},
   "source": [
    "### Price data\n",
    "\n",
    "#### Collecting \n",
    "I collected price data from the [CryptoCompare.com](CryptoCompare.com) API.\n",
    "\n",
    "Pricing data is available in daily, hourly and minutely increments. The minute data is only stored for 7 days and for the scope of this project I felt it was too granular. The daily data would have probably been sufficient however, articles are posted quite often and may have a near immediate effect on price. for this reason I chose to collect hourly data.\n",
    "\n",
    "\n",
    "\n",
    "##### Transforming\n",
    "\n",
    "Like any asset price is not the only factor. Usually investors will monitor technical indicators in making trading decisions.\n",
    "\n",
    "I added various indicators using a library called [TA-lib](https://github.com/mrjbq7/ta-lib), available on Github. TA-lib includes 200 indicators such as ADX, MACD, RSI, Stochastic, Bollinger Bands etc... and \n",
    "candlestick pattern recognition\n",
    "\n",
    "I picked a few of the most popular indicators to add the the pricing dataframes.\n",
    "\n",
    "I then created predictor columns from the pricing data using `.diff()`, `.pct_change()` and `.shift()` from the pandas library.\n",
    "\n",
    "### Assumptions associated with pricing data.\n",
    "\n",
    "Many articles are made in response to either price, and indicator value or an event associated with the coin. The events sometimes come directly from the development group, however other times the event is associated with a problem connected to the coin. In recent times article are in response to a federal authority regulation interest or a hack of an exchange where cryptocurrencies are bought and sold.\n",
    "\n",
    "Traders respond to technical indicators and news associated with an asset. Therefore I will create columns to reflect indicator values associated with a given coin.\n",
    "- RSI (Relative Strength Index) (standard periods, 14 )\n",
    "- SMA (Simple Moving Average) 9, 25, 50, 100 period \n",
    "- Bollinger Bands (standard periods)\n",
    "- Stochastic Strength Indicator (standard periods)\n",
    "- ADX Average Daily Direction (standard periods, 14)\n",
    "- ATR Average True Range (standard periods, 14)\n",
    "- OBV Observed Buy Volume\n",
    "- MACD Moving Average Convergence Divergence\n",
    "- MFI Money Flow Index\n",
    "- Min Max (Minimum and Maximum price over the last __n__ days\n",
    "    - 365 day\n",
    "    - 180 day\n",
    "    - 90 day\n",
    "    - 30 day\n",
    "    - 14 day\n",
    "    - 7 day\n",
    "- HT_TRENDMODE - Hilbert Transform - Trend vs Cycle Mode"
   ]
  },
  {
   "cell_type": "markdown",
   "metadata": {},
   "source": [
    "## Approach\n",
    "\n",
    "- Define an article as `\"mature\"` when it is a week old. Therefore only use article that have reached maturity in the dataset.\n",
    "- Define that an article can only have a level of bullishness vs bearishness. Therefore engineer a feature to display bullishness vs bearishness in terms of percent.\n",
    "- Define that all other user voting columns are numerical and will have values from `0 to infinity`.\n",
    "\n",
    "Use TF-IDf to collect a corpus of words from the titles and descriptions of the articles.\n",
    "- remove stop English stop words\n",
    "- set maximum features to 2000 per title and description\n",
    "- set a min amount of times that the word must appear in a corpus to 10% total\n",
    "- set **n** grams to a range of `(1, -3)`\n",
    "\n",
    "Build columns that measure the readability of the article using two readability scoring methods. My assumption here is that users will quickly assume the reliability of the article if they can consume it and understand it quickly. More info related to these methods is below.\n",
    "\n",
    "- Smog Index\n",
    "    - (https://en.wikipedia.org/wiki/SMOG)\n",
    "- Coleman Liau Index\n",
    "    - (https://en.wikipedia.org/wiki/Coleman%E2%80%93Liau_index)\n",
    "    \n",
    "Use [textblob](https://textblob.readthedocs.io/en/dev/) to build features for checking polarity and subjectivity of the title and description.\n",
    "- polarity has a range of `(-1, 1)`\n",
    "- subjectivity has a range of `(0, 1)`\n",
    "\n",
    "Create 1-hot-encode for all domains and authors\n",
    "\n",
    "Add dummy columns to represent date specific variables\n",
    "- Day of week `(0-6)` \n",
    "- is day a business day `(1,0)`\n",
    "    - code adapted from [jckantor/NYSE_tradingdays.py](https://gist.github.com/jckantor/d100a028027c5a6b8340)\n",
    "- time of day `(0-23)`"
   ]
  },
  {
   "cell_type": "markdown",
   "metadata": {},
   "source": [
    "### Predictions\n",
    "\n",
    "- is Bullish values are `>= 65`\n",
    "- is Bearish values are `<= 35`\n",
    "   - otherwise neutral \n",
    "- important (continuous)\n",
    "- is the article toxic `(1,0)`\n",
    "- is liked `(1,0)`\n",
    "- is disliked \n",
    "- will the article have an impact on price in the next:\n",
    "    - 1 hr\n",
    "    - 4 hrs\n",
    "    - 12 hrs\n",
    "    - 24 hours"
   ]
  },
  {
   "cell_type": "markdown",
   "metadata": {},
   "source": [
    "## EDA"
   ]
  },
  {
   "cell_type": "markdown",
   "metadata": {},
   "source": [
    "### Distribution of votes"
   ]
  },
  {
   "cell_type": "markdown",
   "metadata": {},
   "source": [
    "Distribution of Bullish Votes"
   ]
  },
  {
   "cell_type": "markdown",
   "metadata": {},
   "source": [
    "![Bullish](images/bullish_dist.png)"
   ]
  },
  {
   "cell_type": "markdown",
   "metadata": {},
   "source": [
    "Distribution of Bearish Votes"
   ]
  },
  {
   "cell_type": "markdown",
   "metadata": {},
   "source": [
    "![bearish](images/bearish_dist.png)"
   ]
  },
  {
   "cell_type": "markdown",
   "metadata": {},
   "source": [
    "Distribution of Important Votes"
   ]
  },
  {
   "cell_type": "markdown",
   "metadata": {},
   "source": [
    "![bearish](images/important_dist.png)"
   ]
  },
  {
   "cell_type": "markdown",
   "metadata": {},
   "source": [
    "Distribution of lol Votes"
   ]
  },
  {
   "cell_type": "markdown",
   "metadata": {},
   "source": [
    "![lol](images/lol_dist.png)"
   ]
  },
  {
   "cell_type": "markdown",
   "metadata": {},
   "source": [
    "Distribution of Liked Votes"
   ]
  },
  {
   "cell_type": "markdown",
   "metadata": {},
   "source": [
    "![Liked votes](images/liked_dist.png)"
   ]
  },
  {
   "cell_type": "markdown",
   "metadata": {},
   "source": [
    "Distribution of Disliked Votes"
   ]
  },
  {
   "cell_type": "markdown",
   "metadata": {},
   "source": [
    "![dislike](images/dislike_dist.png)"
   ]
  },
  {
   "cell_type": "markdown",
   "metadata": {},
   "source": [
    "Distribution of Toxic Votes"
   ]
  },
  {
   "cell_type": "markdown",
   "metadata": {},
   "source": [
    "![toxic](images/toxic_dist.png)"
   ]
  },
  {
   "cell_type": "markdown",
   "metadata": {},
   "source": [
    "## Simple Correlation Check"
   ]
  },
  {
   "cell_type": "markdown",
   "metadata": {},
   "source": [
    "The correlation heat map shows minor correlation to bullishness associated with the Colmean Liau Index of the description and also the domain [ethereumworldnews.com](ethereumworldnews.com)"
   ]
  },
  {
   "cell_type": "markdown",
   "metadata": {},
   "source": [
    "![title](images/corrmat_BTC_to_Bullish.png)\n"
   ]
  },
  {
   "cell_type": "markdown",
   "metadata": {},
   "source": [
    "## Results"
   ]
  },
  {
   "cell_type": "code",
   "execution_count": null,
   "metadata": {},
   "outputs": [],
   "source": []
  },
  {
   "cell_type": "code",
   "execution_count": null,
   "metadata": {},
   "outputs": [],
   "source": []
  }
 ],
 "metadata": {
  "kernelspec": {
   "display_name": "Python [default]",
   "language": "python",
   "name": "python3"
  },
  "language_info": {
   "codemirror_mode": {
    "name": "ipython",
    "version": 3
   },
   "file_extension": ".py",
   "mimetype": "text/x-python",
   "name": "python",
   "nbconvert_exporter": "python",
   "pygments_lexer": "ipython3",
   "version": "3.6.5"
  },
  "varInspector": {
   "cols": {
    "lenName": 16,
    "lenType": 16,
    "lenVar": 40
   },
   "kernels_config": {
    "python": {
     "delete_cmd_postfix": "",
     "delete_cmd_prefix": "del ",
     "library": "var_list.py",
     "varRefreshCmd": "print(var_dic_list())"
    },
    "r": {
     "delete_cmd_postfix": ") ",
     "delete_cmd_prefix": "rm(",
     "library": "var_list.r",
     "varRefreshCmd": "cat(var_dic_list()) "
    }
   },
   "types_to_exclude": [
    "module",
    "function",
    "builtin_function_or_method",
    "instance",
    "_Feature"
   ],
   "window_display": false
  }
 },
 "nbformat": 4,
 "nbformat_minor": 2
}
